{
 "cells": [
  {
   "cell_type": "code",
   "execution_count": 8,
   "metadata": {},
   "outputs": [
    {
     "name": "stdout",
     "output_type": "stream",
     "text": [
      "Requirement already satisfied: numpy>=1.8.2 in /Users/jshin/Library/Python/3.7/lib/python/site-packages (from -r requirements.txt (line 1)) (1.18.1)\n",
      "Collecting ipywidgets>=7.5.1 (from -r requirements.txt (line 2))\n",
      "\u001b[?25l  Downloading https://files.pythonhosted.org/packages/56/a0/dbcf5881bb2f51e8db678211907f16ea0a182b232c591a6d6f276985ca95/ipywidgets-7.5.1-py2.py3-none-any.whl (121kB)\n",
      "\u001b[K    100% |████████████████████████████████| 122kB 2.9MB/s ta 0:00:01\n",
      "\u001b[?25hRequirement already satisfied: ipython>=4.0.0; python_version >= \"3.3\" in /Library/Python/3.7/site-packages (from ipywidgets>=7.5.1->-r requirements.txt (line 2)) (7.11.1)\n",
      "Requirement already satisfied: traitlets>=4.3.1 in /Library/Python/3.7/site-packages (from ipywidgets>=7.5.1->-r requirements.txt (line 2)) (4.3.3)\n",
      "Requirement already satisfied: nbformat>=4.2.0 in /Library/Python/3.7/site-packages (from ipywidgets>=7.5.1->-r requirements.txt (line 2)) (5.0.3)\n",
      "Requirement already satisfied: ipykernel>=4.5.1 in /Library/Python/3.7/site-packages (from ipywidgets>=7.5.1->-r requirements.txt (line 2)) (5.1.3)\n",
      "Collecting widgetsnbextension~=3.5.0 (from ipywidgets>=7.5.1->-r requirements.txt (line 2))\n",
      "\u001b[?25l  Downloading https://files.pythonhosted.org/packages/6c/7b/7ac231c20d2d33c445eaacf8a433f4e22c60677eb9776c7c5262d7ddee2d/widgetsnbextension-3.5.1-py2.py3-none-any.whl (2.2MB)\n",
      "\u001b[K    100% |████████████████████████████████| 2.2MB 10.6MB/s ta 0:00:01\n",
      "\u001b[?25hRequirement already satisfied: decorator in /Library/Python/3.7/site-packages (from ipython>=4.0.0; python_version >= \"3.3\"->ipywidgets>=7.5.1->-r requirements.txt (line 2)) (4.4.1)\n",
      "Requirement already satisfied: jedi>=0.10 in /Library/Python/3.7/site-packages (from ipython>=4.0.0; python_version >= \"3.3\"->ipywidgets>=7.5.1->-r requirements.txt (line 2)) (0.15.2)\n",
      "Requirement already satisfied: prompt-toolkit!=3.0.0,!=3.0.1,<3.1.0,>=2.0.0 in /Library/Python/3.7/site-packages (from ipython>=4.0.0; python_version >= \"3.3\"->ipywidgets>=7.5.1->-r requirements.txt (line 2)) (3.0.2)\n",
      "Requirement already satisfied: setuptools>=18.5 in /Library/Developer/CommandLineTools/Library/Frameworks/Python3.framework/Versions/3.7/lib/python3.7/site-packages (from ipython>=4.0.0; python_version >= \"3.3\"->ipywidgets>=7.5.1->-r requirements.txt (line 2)) (40.8.0)\n",
      "Requirement already satisfied: pickleshare in /Library/Python/3.7/site-packages (from ipython>=4.0.0; python_version >= \"3.3\"->ipywidgets>=7.5.1->-r requirements.txt (line 2)) (0.7.5)\n",
      "Requirement already satisfied: appnope; sys_platform == \"darwin\" in /Library/Python/3.7/site-packages (from ipython>=4.0.0; python_version >= \"3.3\"->ipywidgets>=7.5.1->-r requirements.txt (line 2)) (0.1.0)\n",
      "Requirement already satisfied: backcall in /Library/Python/3.7/site-packages (from ipython>=4.0.0; python_version >= \"3.3\"->ipywidgets>=7.5.1->-r requirements.txt (line 2)) (0.1.0)\n",
      "Requirement already satisfied: pygments in /Library/Python/3.7/site-packages (from ipython>=4.0.0; python_version >= \"3.3\"->ipywidgets>=7.5.1->-r requirements.txt (line 2)) (2.5.2)\n",
      "Requirement already satisfied: pexpect; sys_platform != \"win32\" in /Library/Python/3.7/site-packages (from ipython>=4.0.0; python_version >= \"3.3\"->ipywidgets>=7.5.1->-r requirements.txt (line 2)) (4.7.0)\n",
      "Requirement already satisfied: six in /Library/Developer/CommandLineTools/Library/Frameworks/Python3.framework/Versions/3.7/lib/python3.7/site-packages (from traitlets>=4.3.1->ipywidgets>=7.5.1->-r requirements.txt (line 2)) (1.12.0)\n",
      "Requirement already satisfied: ipython-genutils in /Library/Python/3.7/site-packages (from traitlets>=4.3.1->ipywidgets>=7.5.1->-r requirements.txt (line 2)) (0.2.0)\n",
      "Requirement already satisfied: jsonschema!=2.5.0,>=2.4 in /Library/Python/3.7/site-packages (from nbformat>=4.2.0->ipywidgets>=7.5.1->-r requirements.txt (line 2)) (3.2.0)\n",
      "Requirement already satisfied: jupyter-core in /Library/Python/3.7/site-packages (from nbformat>=4.2.0->ipywidgets>=7.5.1->-r requirements.txt (line 2)) (4.6.1)\n",
      "Requirement already satisfied: tornado>=4.2 in /Library/Python/3.7/site-packages (from ipykernel>=4.5.1->ipywidgets>=7.5.1->-r requirements.txt (line 2)) (6.0.3)\n",
      "Requirement already satisfied: jupyter-client in /Library/Python/3.7/site-packages (from ipykernel>=4.5.1->ipywidgets>=7.5.1->-r requirements.txt (line 2)) (5.3.4)\n",
      "Requirement already satisfied: notebook>=4.4.1 in /Library/Python/3.7/site-packages (from widgetsnbextension~=3.5.0->ipywidgets>=7.5.1->-r requirements.txt (line 2)) (6.0.2)\n",
      "Requirement already satisfied: parso>=0.5.2 in /Library/Python/3.7/site-packages (from jedi>=0.10->ipython>=4.0.0; python_version >= \"3.3\"->ipywidgets>=7.5.1->-r requirements.txt (line 2)) (0.5.2)\n",
      "Requirement already satisfied: wcwidth in /Library/Python/3.7/site-packages (from prompt-toolkit!=3.0.0,!=3.0.1,<3.1.0,>=2.0.0->ipython>=4.0.0; python_version >= \"3.3\"->ipywidgets>=7.5.1->-r requirements.txt (line 2)) (0.1.8)\n",
      "Requirement already satisfied: ptyprocess>=0.5 in /Library/Python/3.7/site-packages (from pexpect; sys_platform != \"win32\"->ipython>=4.0.0; python_version >= \"3.3\"->ipywidgets>=7.5.1->-r requirements.txt (line 2)) (0.6.0)\n",
      "Requirement already satisfied: importlib-metadata; python_version < \"3.8\" in /Library/Python/3.7/site-packages (from jsonschema!=2.5.0,>=2.4->nbformat>=4.2.0->ipywidgets>=7.5.1->-r requirements.txt (line 2)) (1.4.0)\n",
      "Requirement already satisfied: pyrsistent>=0.14.0 in /Library/Python/3.7/site-packages (from jsonschema!=2.5.0,>=2.4->nbformat>=4.2.0->ipywidgets>=7.5.1->-r requirements.txt (line 2)) (0.15.7)\n",
      "Requirement already satisfied: attrs>=17.4.0 in /Library/Python/3.7/site-packages (from jsonschema!=2.5.0,>=2.4->nbformat>=4.2.0->ipywidgets>=7.5.1->-r requirements.txt (line 2)) (19.3.0)\n",
      "Requirement already satisfied: python-dateutil>=2.1 in /Users/jshin/Library/Python/3.7/lib/python/site-packages (from jupyter-client->ipykernel>=4.5.1->ipywidgets>=7.5.1->-r requirements.txt (line 2)) (2.7.3)\n",
      "Requirement already satisfied: pyzmq>=13 in /Library/Python/3.7/site-packages (from jupyter-client->ipykernel>=4.5.1->ipywidgets>=7.5.1->-r requirements.txt (line 2)) (18.1.1)\n",
      "Requirement already satisfied: terminado>=0.8.1 in /Library/Python/3.7/site-packages (from notebook>=4.4.1->widgetsnbextension~=3.5.0->ipywidgets>=7.5.1->-r requirements.txt (line 2)) (0.8.3)\n",
      "Requirement already satisfied: nbconvert in /Library/Python/3.7/site-packages (from notebook>=4.4.1->widgetsnbextension~=3.5.0->ipywidgets>=7.5.1->-r requirements.txt (line 2)) (5.6.1)\n",
      "Requirement already satisfied: jinja2 in /Library/Python/3.7/site-packages (from notebook>=4.4.1->widgetsnbextension~=3.5.0->ipywidgets>=7.5.1->-r requirements.txt (line 2)) (2.10.3)\n",
      "Requirement already satisfied: Send2Trash in /Library/Python/3.7/site-packages (from notebook>=4.4.1->widgetsnbextension~=3.5.0->ipywidgets>=7.5.1->-r requirements.txt (line 2)) (1.5.0)\n",
      "Requirement already satisfied: prometheus-client in /Library/Python/3.7/site-packages (from notebook>=4.4.1->widgetsnbextension~=3.5.0->ipywidgets>=7.5.1->-r requirements.txt (line 2)) (0.7.1)\n",
      "Requirement already satisfied: zipp>=0.5 in /Library/Python/3.7/site-packages (from importlib-metadata; python_version < \"3.8\"->jsonschema!=2.5.0,>=2.4->nbformat>=4.2.0->ipywidgets>=7.5.1->-r requirements.txt (line 2)) (0.6.0)\n",
      "Requirement already satisfied: bleach in /Library/Python/3.7/site-packages (from nbconvert->notebook>=4.4.1->widgetsnbextension~=3.5.0->ipywidgets>=7.5.1->-r requirements.txt (line 2)) (3.1.0)\n",
      "Requirement already satisfied: mistune<2,>=0.8.1 in /Library/Python/3.7/site-packages (from nbconvert->notebook>=4.4.1->widgetsnbextension~=3.5.0->ipywidgets>=7.5.1->-r requirements.txt (line 2)) (0.8.4)\n",
      "Requirement already satisfied: testpath in /Library/Python/3.7/site-packages (from nbconvert->notebook>=4.4.1->widgetsnbextension~=3.5.0->ipywidgets>=7.5.1->-r requirements.txt (line 2)) (0.4.4)\n",
      "Requirement already satisfied: pandocfilters>=1.4.1 in /Library/Python/3.7/site-packages (from nbconvert->notebook>=4.4.1->widgetsnbextension~=3.5.0->ipywidgets>=7.5.1->-r requirements.txt (line 2)) (1.4.2)\n",
      "Requirement already satisfied: defusedxml in /Library/Python/3.7/site-packages (from nbconvert->notebook>=4.4.1->widgetsnbextension~=3.5.0->ipywidgets>=7.5.1->-r requirements.txt (line 2)) (0.6.0)\n",
      "Requirement already satisfied: entrypoints>=0.2.2 in /Library/Python/3.7/site-packages (from nbconvert->notebook>=4.4.1->widgetsnbextension~=3.5.0->ipywidgets>=7.5.1->-r requirements.txt (line 2)) (0.3)\n",
      "Requirement already satisfied: MarkupSafe>=0.23 in /Library/Python/3.7/site-packages (from jinja2->notebook>=4.4.1->widgetsnbextension~=3.5.0->ipywidgets>=7.5.1->-r requirements.txt (line 2)) (1.1.1)\n",
      "Requirement already satisfied: more-itertools in /Library/Python/3.7/site-packages (from zipp>=0.5->importlib-metadata; python_version < \"3.8\"->jsonschema!=2.5.0,>=2.4->nbformat>=4.2.0->ipywidgets>=7.5.1->-r requirements.txt (line 2)) (8.0.2)\n",
      "Requirement already satisfied: webencodings in /Library/Python/3.7/site-packages (from bleach->nbconvert->notebook>=4.4.1->widgetsnbextension~=3.5.0->ipywidgets>=7.5.1->-r requirements.txt (line 2)) (0.5.1)\n",
      "Installing collected packages: widgetsnbextension, ipywidgets\n",
      "Successfully installed ipywidgets-7.5.1 widgetsnbextension-3.5.1\n",
      "\u001b[33mYou are using pip version 19.0.3, however version 19.3.1 is available.\n",
      "You should consider upgrading via the 'pip install --upgrade pip' command.\u001b[0m\n"
     ]
    }
   ],
   "source": [
    "import sys\n",
    "!{sys.executable} -m pip install --user -r requirements.txt"
   ]
  },
  {
   "cell_type": "code",
   "execution_count": 9,
   "metadata": {},
   "outputs": [],
   "source": [
    "import glob\n",
    "import numpy as np\n",
    "import os\n",
    "import shutil\n",
    "from utils import log_progress\n",
    "\n",
    "np.random.seed(42)"
   ]
  },
  {
   "cell_type": "code",
   "execution_count": 10,
   "metadata": {},
   "outputs": [
    {
     "data": {
      "text/plain": [
       "(12500, 12500)"
      ]
     },
     "execution_count": 10,
     "metadata": {},
     "output_type": "execute_result"
    }
   ],
   "source": [
    "files = glob.glob('orig-train/*')\n",
    "\n",
    "cat_files = [fn for fn in files if 'cat' in fn]\n",
    "dog_files = [fn for fn in files if 'dog' in fn]\n",
    "len(cat_files), len(dog_files)"
   ]
  },
  {
   "cell_type": "code",
   "execution_count": 11,
   "metadata": {},
   "outputs": [
    {
     "name": "stdout",
     "output_type": "stream",
     "text": [
      "Cat datasets: (1500,) (500,) (500,)\n",
      "Dog datasets: (1500,) (500,) (500,)\n"
     ]
    }
   ],
   "source": [
    "cat_train = np.random.choice(cat_files, size=1500, replace=False)\n",
    "dog_train = np.random.choice(dog_files, size=1500, replace=False)\n",
    "cat_files = list(set(cat_files) - set(cat_train))\n",
    "dog_files = list(set(dog_files) - set(dog_train))\n",
    "\n",
    "cat_val = np.random.choice(cat_files, size=500, replace=False)\n",
    "dog_val = np.random.choice(dog_files, size=500, replace=False)\n",
    "cat_files = list(set(cat_files) - set(cat_val))\n",
    "dog_files = list(set(dog_files) - set(dog_val))\n",
    "\n",
    "cat_test = np.random.choice(cat_files, size=500, replace=False)\n",
    "dog_test = np.random.choice(dog_files, size=500, replace=False)\n",
    "\n",
    "print('Cat datasets:', cat_train.shape, cat_val.shape, cat_test.shape)\n",
    "print('Dog datasets:', dog_train.shape, dog_val.shape, dog_test.shape)"
   ]
  },
  {
   "cell_type": "code",
   "execution_count": 12,
   "metadata": {},
   "outputs": [
    {
     "data": {
      "application/vnd.jupyter.widget-view+json": {
       "model_id": "a73b0eaea1094d44a620962cbcc3cb9a",
       "version_major": 2,
       "version_minor": 0
      },
      "text/plain": [
       "VBox(children=(HTML(value=''), IntProgress(value=0, max=3000)))"
      ]
     },
     "metadata": {},
     "output_type": "display_data"
    },
    {
     "data": {
      "application/vnd.jupyter.widget-view+json": {
       "model_id": "ece679b1b8db4b989da4881bb0a72a17",
       "version_major": 2,
       "version_minor": 0
      },
      "text/plain": [
       "VBox(children=(HTML(value=''), IntProgress(value=0, max=1000)))"
      ]
     },
     "metadata": {},
     "output_type": "display_data"
    },
    {
     "data": {
      "application/vnd.jupyter.widget-view+json": {
       "model_id": "afcb5f3df3d34adfbcddf02cd5a8b562",
       "version_major": 2,
       "version_minor": 0
      },
      "text/plain": [
       "VBox(children=(HTML(value=''), IntProgress(value=0, max=1000)))"
      ]
     },
     "metadata": {},
     "output_type": "display_data"
    }
   ],
   "source": [
    "train_dir = 'training_data'\n",
    "val_dir = 'validation_data'\n",
    "test_dir = 'test_data'\n",
    "\n",
    "train_files = np.concatenate([cat_train, dog_train])\n",
    "validate_files = np.concatenate([cat_val, dog_val])\n",
    "test_files = np.concatenate([cat_test, dog_test])\n",
    "\n",
    "os.mkdir(train_dir) if not os.path.isdir(train_dir) else None\n",
    "os.mkdir(val_dir) if not os.path.isdir(val_dir) else None\n",
    "os.mkdir(test_dir) if not os.path.isdir(test_dir) else None\n",
    "\n",
    "for fn in log_progress(train_files, name='Training Images'):\n",
    "    shutil.copy(fn, train_dir)\n",
    "\n",
    "for fn in log_progress(validate_files, name='Validation Images'):\n",
    "    shutil.copy(fn, val_dir)\n",
    "    \n",
    "for fn in log_progress(test_files, name='Test Images'):\n",
    "    shutil.copy(fn, test_dir)"
   ]
  },
  {
   "cell_type": "code",
   "execution_count": null,
   "metadata": {},
   "outputs": [],
   "source": []
  }
 ],
 "metadata": {
  "anaconda-cloud": {},
  "kernelspec": {
   "display_name": "Python 3",
   "language": "python",
   "name": "python3"
  },
  "language_info": {
   "codemirror_mode": {
    "name": "ipython",
    "version": 3
   },
   "file_extension": ".py",
   "mimetype": "text/x-python",
   "name": "python",
   "nbconvert_exporter": "python",
   "pygments_lexer": "ipython3",
   "version": "3.7.3"
  },
  "widgets": {
   "state": {
    "707cda043c794c6bbccbf3e3f0264e09": {
     "views": [
      {
       "cell_index": 5
      }
     ]
    },
    "76235700d807469ea94675fe7f2b6187": {
     "views": [
      {
       "cell_index": 5
      }
     ]
    },
    "7aadcb865964421fb6f976525e21adca": {
     "views": [
      {
       "cell_index": 5
      }
     ]
    }
   },
   "version": "1.2.0"
  }
 },
 "nbformat": 4,
 "nbformat_minor": 4
}
